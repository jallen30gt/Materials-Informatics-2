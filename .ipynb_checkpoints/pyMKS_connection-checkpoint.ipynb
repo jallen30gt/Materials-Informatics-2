{
 "cells": [
  {
   "cell_type": "code",
   "execution_count": 4,
   "metadata": {
    "collapsed": false
   },
   "outputs": [
    {
     "name": "stdout",
     "output_type": "stream",
     "text": [
      "The autoreload extension is already loaded. To reload it, use:\n",
      "  %reload_ext autoreload\n"
     ]
    }
   ],
   "source": [
    "%matplotlib inline\n",
    "%load_ext autoreload\n",
    "%autoreload 2\n",
    "\n",
    "import numpy as np\n",
    "import matplotlib.pyplot as plt"
   ]
  },
  {
   "cell_type": "code",
   "execution_count": 5,
   "metadata": {
    "collapsed": false
   },
   "outputs": [
    {
     "name": "stdout",
     "output_type": "stream",
     "text": [
      "(100, 100, 100, 100)\n"
     ]
    }
   ],
   "source": [
    "import scipy.io as sio\n",
    "N = sio.loadmat('stack_N1004.mat')\n",
    "N = N['stack_N1004'][0:50,:,:,:]\n",
    "S = sio.loadmat('stack_S1004.mat')\n",
    "S = S['stack_S1004'][0:50,:,:,:]\n",
    "#N = N.stack_N100\n",
    "print N.shape"
   ]
  },
  {
   "cell_type": "code",
   "execution_count": null,
   "metadata": {
    "collapsed": false
   },
   "outputs": [
    {
     "name": "stdout",
     "output_type": "stream",
     "text": [
      "(200, 100, 100, 100)\n"
     ]
    }
   ],
   "source": [
    "\n",
    "combined = np.concatenate((S, N), axis=0)\n",
    "print combined.shape"
   ]
  },
  {
   "cell_type": "code",
   "execution_count": null,
   "metadata": {
    "collapsed": false
   },
   "outputs": [],
   "source": [
    "from pymks import MKSStructureAnalysis\n",
    "from pymks import PrimitiveBasis\n",
    "from sklearn.decomposition import PCA\n",
    "reducer = PCA(n_components=5)\n",
    "\n",
    "p_basis = PrimitiveBasis(n_states=2, domain=[0, 1])\n",
    "model = MKSStructureAnalysis(basis=p_basis, correlations=[(0, 0)], periodic_axes=[0, 1],\n",
    "                               dimension_reducer=reducer)\n",
    "model.fit(combined)"
   ]
  },
  {
   "cell_type": "code",
   "execution_count": null,
   "metadata": {
    "collapsed": false
   },
   "outputs": [],
   "source": [
    "from pymks.tools import draw_component_variance\n",
    "\n",
    "draw_component_variance(model.dimension_reducer.explained_variance_ratio_)\n"
   ]
  },
  {
   "cell_type": "code",
   "execution_count": null,
   "metadata": {
    "collapsed": false
   },
   "outputs": [],
   "source": [
    "from pymks.tools import draw_components_scatter\n",
    "draw_components_scatter([model.reduced_fit_data[0:100,:3],model.reduced_fit_data[100:200,:3]],['N','S'])"
   ]
  },
  {
   "cell_type": "code",
   "execution_count": null,
   "metadata": {
    "collapsed": true
   },
   "outputs": [],
   "source": [
    "? draw_components_scatter"
   ]
  },
  {
   "cell_type": "code",
   "execution_count": null,
   "metadata": {
    "collapsed": true
   },
   "outputs": [],
   "source": []
  }
 ],
 "metadata": {
  "kernelspec": {
   "display_name": "Python 2",
   "language": "python",
   "name": "python2"
  },
  "language_info": {
   "codemirror_mode": {
    "name": "ipython",
    "version": 2
   },
   "file_extension": ".py",
   "mimetype": "text/x-python",
   "name": "python",
   "nbconvert_exporter": "python",
   "pygments_lexer": "ipython2",
   "version": "2.7.11"
  }
 },
 "nbformat": 4,
 "nbformat_minor": 0
}
